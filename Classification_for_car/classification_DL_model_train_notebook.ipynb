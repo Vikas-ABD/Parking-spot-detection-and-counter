{
  "nbformat": 4,
  "nbformat_minor": 0,
  "metadata": {
    "colab": {
      "provenance": [],
      "gpuType": "T4"
    },
    "kernelspec": {
      "name": "python3",
      "display_name": "Python 3"
    },
    "language_info": {
      "name": "python"
    },
    "accelerator": "GPU"
  },
  "cells": [
    {
      "cell_type": "code",
      "source": [
        "!pip install gdown\n",
        "\n",
        "import gdown\n",
        "import shutil\n",
        "\n",
        "# Destination directory where the user will download the data https://drive.google.com/file/d/11PI6wGDjuJ3LiPSm3izbVcmVTX7DDVLn/view?usp=drive_link\n",
        "destination_path = '/content'\n",
        "\n",
        "# Direct download link for the ZIP file\n",
        "folder_id ='11PI6wGDjuJ3LiPSm3izbVcmVTX7DDVLn'\n",
        "zip_file_url = f'https://drive.google.com/uc?id={folder_id}'\n",
        "\n",
        "\n",
        "# Download the ZIP file\n",
        "zip_file_path = destination_path + '/Data.zip'\n",
        "gdown.download(zip_file_url, zip_file_path, quiet=False)"
      ],
      "metadata": {
        "colab": {
          "base_uri": "https://localhost:8080/",
          "height": 564
        },
        "id": "jay5pSkZCC4-",
        "outputId": "a1c9e1ea-93b5-46a6-d717-e998d4c36b66"
      },
      "execution_count": 22,
      "outputs": [
        {
          "output_type": "stream",
          "name": "stdout",
          "text": [
            "Requirement already satisfied: gdown in /usr/local/lib/python3.10/dist-packages (4.6.6)\n",
            "Requirement already satisfied: filelock in /usr/local/lib/python3.10/dist-packages (from gdown) (3.13.1)\n",
            "Requirement already satisfied: requests[socks] in /usr/local/lib/python3.10/dist-packages (from gdown) (2.31.0)\n",
            "Requirement already satisfied: six in /usr/local/lib/python3.10/dist-packages (from gdown) (1.16.0)\n",
            "Requirement already satisfied: tqdm in /usr/local/lib/python3.10/dist-packages (from gdown) (4.66.1)\n",
            "Requirement already satisfied: beautifulsoup4 in /usr/local/lib/python3.10/dist-packages (from gdown) (4.11.2)\n",
            "Requirement already satisfied: soupsieve>1.2 in /usr/local/lib/python3.10/dist-packages (from beautifulsoup4->gdown) (2.5)\n",
            "Requirement already satisfied: charset-normalizer<4,>=2 in /usr/local/lib/python3.10/dist-packages (from requests[socks]->gdown) (3.3.2)\n",
            "Requirement already satisfied: idna<4,>=2.5 in /usr/local/lib/python3.10/dist-packages (from requests[socks]->gdown) (3.6)\n",
            "Requirement already satisfied: urllib3<3,>=1.21.1 in /usr/local/lib/python3.10/dist-packages (from requests[socks]->gdown) (2.0.7)\n",
            "Requirement already satisfied: certifi>=2017.4.17 in /usr/local/lib/python3.10/dist-packages (from requests[socks]->gdown) (2023.11.17)\n",
            "Requirement already satisfied: PySocks!=1.5.7,>=1.5.6 in /usr/local/lib/python3.10/dist-packages (from requests[socks]->gdown) (1.7.1)\n"
          ]
        },
        {
          "output_type": "error",
          "ename": "AttributeError",
          "evalue": "'NoneType' object has no attribute 'groups'",
          "traceback": [
            "\u001b[0;31m---------------------------------------------------------------------------\u001b[0m",
            "\u001b[0;31mAttributeError\u001b[0m                            Traceback (most recent call last)",
            "\u001b[0;32m<ipython-input-22-b27fed7ebce1>\u001b[0m in \u001b[0;36m<cell line: 16>\u001b[0;34m()\u001b[0m\n\u001b[1;32m     14\u001b[0m \u001b[0;31m# Download the ZIP file\u001b[0m\u001b[0;34m\u001b[0m\u001b[0;34m\u001b[0m\u001b[0m\n\u001b[1;32m     15\u001b[0m \u001b[0mzip_file_path\u001b[0m \u001b[0;34m=\u001b[0m \u001b[0mdestination_path\u001b[0m \u001b[0;34m+\u001b[0m \u001b[0;34m'/Data.zip'\u001b[0m\u001b[0;34m\u001b[0m\u001b[0;34m\u001b[0m\u001b[0m\n\u001b[0;32m---> 16\u001b[0;31m \u001b[0mgdown\u001b[0m\u001b[0;34m.\u001b[0m\u001b[0mdownload\u001b[0m\u001b[0;34m(\u001b[0m\u001b[0mzip_file_url\u001b[0m\u001b[0;34m,\u001b[0m \u001b[0mzip_file_path\u001b[0m\u001b[0;34m,\u001b[0m \u001b[0mquiet\u001b[0m\u001b[0;34m=\u001b[0m\u001b[0;32mFalse\u001b[0m\u001b[0;34m)\u001b[0m\u001b[0;34m\u001b[0m\u001b[0;34m\u001b[0m\u001b[0m\n\u001b[0m",
            "\u001b[0;32m/usr/local/lib/python3.10/dist-packages/gdown/download.py\u001b[0m in \u001b[0;36mdownload\u001b[0;34m(url, output, quiet, proxy, speed, use_cookies, verify, id, fuzzy, resume)\u001b[0m\n\u001b[1;32m    201\u001b[0m         )\n\u001b[1;32m    202\u001b[0m         \u001b[0mm\u001b[0m \u001b[0;34m=\u001b[0m \u001b[0mre\u001b[0m\u001b[0;34m.\u001b[0m\u001b[0msearch\u001b[0m\u001b[0;34m(\u001b[0m\u001b[0;34mr\"filename\\*=UTF-8''(.*)\"\u001b[0m\u001b[0;34m,\u001b[0m \u001b[0mcontent_disposition\u001b[0m\u001b[0;34m)\u001b[0m\u001b[0;34m\u001b[0m\u001b[0;34m\u001b[0m\u001b[0m\n\u001b[0;32m--> 203\u001b[0;31m         \u001b[0mfilename_from_url\u001b[0m \u001b[0;34m=\u001b[0m \u001b[0mm\u001b[0m\u001b[0;34m.\u001b[0m\u001b[0mgroups\u001b[0m\u001b[0;34m(\u001b[0m\u001b[0;34m)\u001b[0m\u001b[0;34m[\u001b[0m\u001b[0;36m0\u001b[0m\u001b[0;34m]\u001b[0m\u001b[0;34m\u001b[0m\u001b[0;34m\u001b[0m\u001b[0m\n\u001b[0m\u001b[1;32m    204\u001b[0m         \u001b[0mfilename_from_url\u001b[0m \u001b[0;34m=\u001b[0m \u001b[0mfilename_from_url\u001b[0m\u001b[0;34m.\u001b[0m\u001b[0mreplace\u001b[0m\u001b[0;34m(\u001b[0m\u001b[0mosp\u001b[0m\u001b[0;34m.\u001b[0m\u001b[0msep\u001b[0m\u001b[0;34m,\u001b[0m \u001b[0;34m\"_\"\u001b[0m\u001b[0;34m)\u001b[0m\u001b[0;34m\u001b[0m\u001b[0;34m\u001b[0m\u001b[0m\n\u001b[1;32m    205\u001b[0m     \u001b[0;32melse\u001b[0m\u001b[0;34m:\u001b[0m\u001b[0;34m\u001b[0m\u001b[0;34m\u001b[0m\u001b[0m\n",
            "\u001b[0;31mAttributeError\u001b[0m: 'NoneType' object has no attribute 'groups'"
          ]
        }
      ]
    },
    {
      "cell_type": "code",
      "source": [
        "# Extract the downloaded ZIP file\n",
        "shutil.unpack_archive(zip_file_path, destination_path)\n",
        "\n",
        "print(\"Data has been downloaded and extracted to:\", destination_path)"
      ],
      "metadata": {
        "colab": {
          "base_uri": "https://localhost:8080/"
        },
        "id": "gqpbiHWGCGYS",
        "outputId": "0312035b-13a9-4188-9e0f-cf4c979e4235"
      },
      "execution_count": 25,
      "outputs": [
        {
          "output_type": "stream",
          "name": "stdout",
          "text": [
            "Data has been downloaded and extracted to: /content\n"
          ]
        }
      ]
    },
    {
      "cell_type": "code",
      "execution_count": 26,
      "metadata": {
        "id": "gZ2Oac4g8DtA"
      },
      "outputs": [],
      "source": [
        "import numpy as np\n",
        "\n",
        "#Set the `numpy` pseudo-random generator at a fixed value\n",
        "#This helps with repeatable results everytime you run the code.\n",
        "np.random.seed(1000)\n",
        "\n",
        "import matplotlib.pyplot as plt\n",
        "import os\n",
        "import cv2\n",
        "from PIL import Image\n",
        "import keras\n",
        "import tensorflow as tf"
      ]
    },
    {
      "cell_type": "code",
      "source": [
        "from keras.preprocessing.image import ImageDataGenerator\n",
        "\n",
        "# Specify the path to your data\n",
        "data_path = '/content/Data'\n",
        "\n",
        "# Create an ImageDataGenerator with rescaling and other augmentations if needed\n",
        "datagen = ImageDataGenerator(rescale=1./255, validation_split=0.1)\n",
        "\n",
        "# Create separate generators for training, validation, and test\n",
        "train_generator = datagen.flow_from_directory(\n",
        "    data_path,\n",
        "    target_size=(150, 150),\n",
        "    batch_size=4,\n",
        "    class_mode='binary',\n",
        "    subset='training'  # Use subset parameter for the training set\n",
        ")\n",
        "\n",
        "validation_generator = datagen.flow_from_directory(\n",
        "    data_path,\n",
        "    target_size=(150, 150),\n",
        "    batch_size=4,\n",
        "    class_mode='binary',\n",
        "    subset='validation'  # Use subset parameter for the validation set\n",
        ")"
      ],
      "metadata": {
        "colab": {
          "base_uri": "https://localhost:8080/"
        },
        "id": "Il-dfqak8GMq",
        "outputId": "368bd74c-23f7-4fcc-a11f-f0635d17bfb3"
      },
      "execution_count": 30,
      "outputs": [
        {
          "output_type": "stream",
          "name": "stdout",
          "text": [
            "Found 1423 images belonging to 2 classes.\n",
            "Found 158 images belonging to 2 classes.\n"
          ]
        }
      ]
    },
    {
      "cell_type": "code",
      "source": [
        "import os\n",
        "import cv2\n",
        "import random\n",
        "\n",
        "data_folder = '/content/Data'  # Replace with the path to your 'data' folder\n",
        "\n",
        "# Get the list of subfolders inside the 'data' folder\n",
        "subfolders = [f.path for f in os.scandir(data_folder) if f.is_dir()]\n",
        "\n",
        "for folder in subfolders:\n",
        "    # Get the list of images in each subfolder\n",
        "    images = [f for f in os.listdir(folder) if f.endswith(('.jpg', '.png', '.jpeg'))]\n",
        "\n",
        "    # Print the number of images in the folder\n",
        "    print(f\"Folder: {os.path.basename(folder)} - Number of Images: {len(images)}\")\n",
        "\n",
        "    if images:\n",
        "        # Randomly select one image from the folder\n",
        "        random_image = random.choice(images)\n",
        "\n",
        "        # Get the path of the randomly selected image\n",
        "        image_path = os.path.join(folder, random_image)\n",
        "\n",
        "        # Read the image using OpenCV to get its size\n",
        "        img = cv2.imread(image_path)\n",
        "        if img is not None:\n",
        "            height, width, _ = img.shape\n",
        "            print(f\"  Random Image: {random_image} - Size: {width}x{height}\")\n",
        "        else:\n",
        "            print(f\"  Unable to read the image: {random_image}\")\n",
        "\n",
        "    print()  # Add a newline for better readability\n"
      ],
      "metadata": {
        "colab": {
          "base_uri": "https://localhost:8080/"
        },
        "id": "IppNfar0HxrY",
        "outputId": "19b600a0-795f-4854-d416-2f9a8f020d52"
      },
      "execution_count": 31,
      "outputs": [
        {
          "output_type": "stream",
          "name": "stdout",
          "text": [
            "Folder: empty - Number of Images: 621\n",
            "  Random Image: aug_0_6283.png - Size: 68x27\n",
            "\n",
            "Folder: not_empty - Number of Images: 960\n",
            "  Random Image: aug_0_3583.png - Size: 61x26\n",
            "\n"
          ]
        }
      ]
    },
    {
      "cell_type": "markdown",
      "source": [
        "# Data Augmentation"
      ],
      "metadata": {
        "id": "cnjEolY3J5zq"
      }
    },
    {
      "cell_type": "code",
      "source": [
        "import os\n",
        "import tensorflow as tf\n",
        "from tensorflow.keras.preprocessing.image import ImageDataGenerator\n",
        "from tqdm import tqdm  # For progress bars\n",
        "\n",
        "# Define the data augmentation parameters\n",
        "datagen = ImageDataGenerator(\n",
        "    rotation_range=10,\n",
        "    width_shift_range=0.1,\n",
        "    height_shift_range=0.1,\n",
        "    shear_range=0.1,\n",
        "    zoom_range=0.1,\n",
        "    brightness_range=[0.8, 1.2],\n",
        "    horizontal_flip=True,\n",
        "    fill_mode='nearest'\n",
        ")\n",
        "\n",
        "# Function to augment and save images in the same folder\n",
        "def augment_and_save(input_folder, target_count,image_count):\n",
        "    # Load images from the input folder\n",
        "    image_list = [os.path.join(input_folder, img) for img in os.listdir(input_folder)]\n",
        "\n",
        "    # Calculate the number of images to generate\n",
        "    images_to_generate = target_count - image_count\n",
        "\n",
        "    # Loop through the images and perform data augmentation\n",
        "    for img_path in tqdm(image_list, desc=f'Augmenting {input_folder}'):\n",
        "        img = tf.keras.preprocessing.image.load_img(img_path)\n",
        "        x = tf.keras.preprocessing.image.img_to_array(img)\n",
        "        x = x.reshape((1,) + x.shape)  # Reshape to (1, height, width, channels)\n",
        "\n",
        "        i = 0\n",
        "        for batch in datagen.flow(x, batch_size=1, save_to_dir=input_folder, save_prefix='aug', save_format='png'):\n",
        "            i += 1\n",
        "            if i >= images_to_generate:\n",
        "                break  # Break the loop after reaching the target count\n",
        "\n",
        "            # Check if the total count (original + augmented) has reached the target\n",
        "            if len(os.listdir(input_folder)) >= target_count:\n",
        "                break\n",
        "\n",
        "# Define paths\n",
        "input_empty_folder = \"/content/Data/empty\"\n",
        "input_not_empty_folder=\"/content/Data/not_empty\"\n",
        "\n",
        "# Set the target count for each class\n",
        "target_count_per_class = 600 # Adjusted to 250 to have 148 original + 102 augmented images\n",
        "\n",
        "# Augment and save images for the 'Resume' class\n",
        "augment_and_save(input_empty_folder, target_count_per_class-250,280)\n",
        "\n",
        "augment_and_save(input_not_empty_folder, target_count_per_class-500,300)"
      ],
      "metadata": {
        "colab": {
          "base_uri": "https://localhost:8080/"
        },
        "id": "u-YHyhkzJ8nl",
        "outputId": "80cc365e-994e-4a4f-a538-351e73c06621"
      },
      "execution_count": 29,
      "outputs": [
        {
          "output_type": "stream",
          "name": "stderr",
          "text": [
            "Augmenting /content/Data/empty: 100%|██████████| 280/280 [00:00<00:00, 373.55it/s]\n",
            "Augmenting /content/Data/not_empty: 100%|██████████| 485/485 [00:00<00:00, 497.00it/s]\n"
          ]
        }
      ]
    },
    {
      "cell_type": "markdown",
      "source": [
        "# For better performance I choose to use DenseNet121\n",
        "\n",
        "# DenseNet121\n",
        "The model architecture applied for resume classification is based on DenseNet121, a pretrained convolutional neural network (CNN) available in TensorFlow's Keras applications. Let's delve into the crucial elements of this architecture and elucidate why it proved effective for the given task:\n",
        "\n",
        "# Base Model - DenseNet121:\n",
        "DenseNet is recognized for its densely connected blocks, fostering feature reuse and mitigating the vanishing gradient problem inherent in deep neural networks. DenseNet121, comprising 121 layers, stands out as a relatively deep architecture. Deeper networks possess the capacity to discern intricate patterns and features, enhancing their ability to learn and generalize effectively. Transfer Learning:\n",
        "\n",
        "I employed transfer learning by harnessing the pre-trained weights from ImageNet. This strategic approach is widely adopted in deep learning, particularly when confronted with limited data availability. Transfer learning empowers the model to capitalize on the knowledge acquired from a vast dataset like ImageNet, thereby enhancing its proficiency on a smaller and more specific dataset—your collection of resume images.\n",
        "\n",
        "#Why It Works Well:\n",
        "DenseNet architectures are known for their efficiency in parameter usage, enabling better learning of features even with limited data. Transfer learning from ImageNet provides a strong initial set of weights that can be fine-tuned to the specific features in your resume dataset. The combination of batch normalization and dropout helps prevent overfitting, ensuring better generalization to unseen data."
      ],
      "metadata": {
        "id": "_6ifKu9mH95t"
      }
    },
    {
      "cell_type": "code",
      "source": [
        "from tensorflow.keras.applications import DenseNet121\n",
        "from tensorflow.keras import layers, models\n",
        "\n",
        "INPUT_SHAPE = (150, 150, 3)\n",
        "\n",
        "base_model = DenseNet121(weights='imagenet', include_top=False, input_shape=INPUT_SHAPE)\n",
        "\n",
        "for layer in base_model.layers:\n",
        "    layer.trainable = False\n",
        "\n",
        "model = models.Sequential()\n",
        "model.add(base_model)\n",
        "model.add(layers.GlobalAveragePooling2D())\n",
        "model.add(layers.Dense(512, activation='relu'))\n",
        "model.add(layers.BatchNormalization())\n",
        "model.add(layers.Dropout(0.2))\n",
        "model.add(layers.Dense(256, activation='relu'))\n",
        "model.add(layers.BatchNormalization())\n",
        "model.add(layers.Dropout(0.2))\n",
        "model.add(layers.Dense(1, activation='sigmoid'))\n",
        "\n",
        "model.compile(optimizer='adam',\n",
        "              loss='binary_crossentropy',\n",
        "              metrics=['accuracy'])\n"
      ],
      "metadata": {
        "id": "plLODth5IDBy"
      },
      "execution_count": 32,
      "outputs": []
    },
    {
      "cell_type": "markdown",
      "source": [
        "# Model Training:"
      ],
      "metadata": {
        "id": "8_wPrTt3IpZP"
      }
    },
    {
      "cell_type": "code",
      "source": [
        "from keras.callbacks import ModelCheckpoint\n",
        "\n",
        "# Fit the model using the generators with ModelCheckpoint callback\n",
        "history = model.fit(\n",
        "    train_generator,\n",
        "    steps_per_epoch=train_generator.samples // train_generator.batch_size,\n",
        "    epochs=100,\n",
        "    validation_data=validation_generator,\n",
        "    validation_steps=validation_generator.samples // validation_generator.batch_size # add the ModelCheckpoint callback to the list of callbacks\n",
        ")\n"
      ],
      "metadata": {
        "colab": {
          "base_uri": "https://localhost:8080/"
        },
        "id": "sGHVmNa1Iqrf",
        "outputId": "bbc6577d-eac4-4a1f-f517-8fb1be6ac892"
      },
      "execution_count": 33,
      "outputs": [
        {
          "output_type": "stream",
          "name": "stdout",
          "text": [
            "Epoch 1/100\n",
            "355/355 [==============================] - 23s 35ms/step - loss: 0.3306 - accuracy: 0.8724 - val_loss: 0.0546 - val_accuracy: 0.9872\n",
            "Epoch 2/100\n",
            "355/355 [==============================] - 8s 23ms/step - loss: 0.2460 - accuracy: 0.9049 - val_loss: 0.1013 - val_accuracy: 0.9872\n",
            "Epoch 3/100\n",
            "355/355 [==============================] - 7s 19ms/step - loss: 0.2707 - accuracy: 0.8985 - val_loss: 0.0415 - val_accuracy: 0.9872\n",
            "Epoch 4/100\n",
            "355/355 [==============================] - 9s 24ms/step - loss: 0.2229 - accuracy: 0.9211 - val_loss: 0.0436 - val_accuracy: 0.9872\n",
            "Epoch 5/100\n",
            "355/355 [==============================] - 7s 21ms/step - loss: 0.2132 - accuracy: 0.9246 - val_loss: 0.0303 - val_accuracy: 0.9872\n",
            "Epoch 6/100\n",
            "355/355 [==============================] - 9s 25ms/step - loss: 0.2166 - accuracy: 0.9190 - val_loss: 0.0307 - val_accuracy: 0.9872\n",
            "Epoch 7/100\n",
            "355/355 [==============================] - 7s 19ms/step - loss: 0.2036 - accuracy: 0.9253 - val_loss: 0.0366 - val_accuracy: 1.0000\n",
            "Epoch 8/100\n",
            "355/355 [==============================] - 9s 25ms/step - loss: 0.2051 - accuracy: 0.9211 - val_loss: 0.0782 - val_accuracy: 1.0000\n",
            "Epoch 9/100\n",
            "355/355 [==============================] - 7s 19ms/step - loss: 0.2086 - accuracy: 0.9323 - val_loss: 0.0416 - val_accuracy: 0.9872\n",
            "Epoch 10/100\n",
            "355/355 [==============================] - 9s 25ms/step - loss: 0.1336 - accuracy: 0.9619 - val_loss: 0.0267 - val_accuracy: 0.9872\n",
            "Epoch 11/100\n",
            "355/355 [==============================] - 7s 19ms/step - loss: 0.1189 - accuracy: 0.9598 - val_loss: 0.0172 - val_accuracy: 0.9872\n",
            "Epoch 12/100\n",
            "355/355 [==============================] - 9s 26ms/step - loss: 0.1717 - accuracy: 0.9471 - val_loss: 0.0318 - val_accuracy: 0.9808\n",
            "Epoch 13/100\n",
            "355/355 [==============================] - 7s 19ms/step - loss: 0.1303 - accuracy: 0.9577 - val_loss: 0.0285 - val_accuracy: 1.0000\n",
            "Epoch 14/100\n",
            "355/355 [==============================] - 9s 25ms/step - loss: 0.1601 - accuracy: 0.9514 - val_loss: 0.0188 - val_accuracy: 1.0000\n",
            "Epoch 15/100\n",
            "355/355 [==============================] - 7s 20ms/step - loss: 0.1635 - accuracy: 0.9457 - val_loss: 0.0887 - val_accuracy: 0.9679\n",
            "Epoch 16/100\n",
            "355/355 [==============================] - 10s 27ms/step - loss: 0.1482 - accuracy: 0.9521 - val_loss: 0.0169 - val_accuracy: 0.9872\n",
            "Epoch 17/100\n",
            "355/355 [==============================] - 7s 21ms/step - loss: 0.1710 - accuracy: 0.9514 - val_loss: 0.0158 - val_accuracy: 1.0000\n",
            "Epoch 18/100\n",
            "355/355 [==============================] - 10s 28ms/step - loss: 0.1552 - accuracy: 0.9563 - val_loss: 0.0068 - val_accuracy: 1.0000\n",
            "Epoch 19/100\n",
            "355/355 [==============================] - 8s 21ms/step - loss: 0.1697 - accuracy: 0.9493 - val_loss: 0.0138 - val_accuracy: 1.0000\n",
            "Epoch 20/100\n",
            "355/355 [==============================] - 9s 25ms/step - loss: 0.1167 - accuracy: 0.9634 - val_loss: 0.0126 - val_accuracy: 1.0000\n",
            "Epoch 21/100\n",
            "355/355 [==============================] - 9s 25ms/step - loss: 0.0945 - accuracy: 0.9704 - val_loss: 0.0145 - val_accuracy: 0.9936\n",
            "Epoch 22/100\n",
            "355/355 [==============================] - 7s 21ms/step - loss: 0.1567 - accuracy: 0.9479 - val_loss: 0.0193 - val_accuracy: 0.9936\n",
            "Epoch 23/100\n",
            "355/355 [==============================] - 10s 29ms/step - loss: 0.1377 - accuracy: 0.9570 - val_loss: 0.0068 - val_accuracy: 1.0000\n",
            "Epoch 24/100\n",
            "355/355 [==============================] - 10s 27ms/step - loss: 0.1382 - accuracy: 0.9584 - val_loss: 0.0185 - val_accuracy: 1.0000\n",
            "Epoch 25/100\n",
            "355/355 [==============================] - 9s 26ms/step - loss: 0.1329 - accuracy: 0.9605 - val_loss: 0.0101 - val_accuracy: 1.0000\n",
            "Epoch 26/100\n",
            "355/355 [==============================] - 8s 22ms/step - loss: 0.1328 - accuracy: 0.9626 - val_loss: 0.0203 - val_accuracy: 0.9872\n",
            "Epoch 27/100\n",
            "355/355 [==============================] - 10s 28ms/step - loss: 0.0917 - accuracy: 0.9774 - val_loss: 0.0186 - val_accuracy: 1.0000\n",
            "Epoch 28/100\n",
            "355/355 [==============================] - 8s 21ms/step - loss: 0.1353 - accuracy: 0.9655 - val_loss: 0.0107 - val_accuracy: 1.0000\n",
            "Epoch 29/100\n",
            "355/355 [==============================] - 8s 23ms/step - loss: 0.1310 - accuracy: 0.9612 - val_loss: 0.0066 - val_accuracy: 1.0000\n",
            "Epoch 30/100\n",
            "355/355 [==============================] - 10s 28ms/step - loss: 0.1052 - accuracy: 0.9669 - val_loss: 0.0179 - val_accuracy: 0.9936\n",
            "Epoch 31/100\n",
            "355/355 [==============================] - 7s 21ms/step - loss: 0.0895 - accuracy: 0.9767 - val_loss: 0.0066 - val_accuracy: 1.0000\n",
            "Epoch 32/100\n",
            "355/355 [==============================] - 10s 27ms/step - loss: 0.1379 - accuracy: 0.9577 - val_loss: 0.0022 - val_accuracy: 1.0000\n",
            "Epoch 33/100\n",
            "355/355 [==============================] - 8s 23ms/step - loss: 0.1670 - accuracy: 0.9471 - val_loss: 0.0206 - val_accuracy: 1.0000\n",
            "Epoch 34/100\n",
            "355/355 [==============================] - 8s 23ms/step - loss: 0.1046 - accuracy: 0.9718 - val_loss: 0.0060 - val_accuracy: 1.0000\n",
            "Epoch 35/100\n",
            "355/355 [==============================] - 10s 28ms/step - loss: 0.1021 - accuracy: 0.9711 - val_loss: 0.0030 - val_accuracy: 1.0000\n",
            "Epoch 36/100\n",
            "355/355 [==============================] - 7s 21ms/step - loss: 0.1131 - accuracy: 0.9690 - val_loss: 0.0371 - val_accuracy: 0.9936\n",
            "Epoch 37/100\n",
            "355/355 [==============================] - 10s 27ms/step - loss: 0.1327 - accuracy: 0.9521 - val_loss: 0.0101 - val_accuracy: 1.0000\n",
            "Epoch 38/100\n",
            "355/355 [==============================] - 7s 21ms/step - loss: 0.1009 - accuracy: 0.9711 - val_loss: 0.0070 - val_accuracy: 1.0000\n",
            "Epoch 39/100\n",
            "355/355 [==============================] - 10s 27ms/step - loss: 0.1015 - accuracy: 0.9711 - val_loss: 0.0092 - val_accuracy: 1.0000\n",
            "Epoch 40/100\n",
            "355/355 [==============================] - 8s 21ms/step - loss: 0.1515 - accuracy: 0.9584 - val_loss: 0.0087 - val_accuracy: 1.0000\n",
            "Epoch 41/100\n",
            "355/355 [==============================] - 8s 23ms/step - loss: 0.1237 - accuracy: 0.9626 - val_loss: 0.0120 - val_accuracy: 1.0000\n",
            "Epoch 42/100\n",
            "355/355 [==============================] - 10s 28ms/step - loss: 0.0918 - accuracy: 0.9746 - val_loss: 0.0043 - val_accuracy: 1.0000\n",
            "Epoch 43/100\n",
            "355/355 [==============================] - 7s 21ms/step - loss: 0.1172 - accuracy: 0.9676 - val_loss: 0.0229 - val_accuracy: 1.0000\n",
            "Epoch 44/100\n",
            "355/355 [==============================] - 8s 24ms/step - loss: 0.1285 - accuracy: 0.9648 - val_loss: 0.0041 - val_accuracy: 1.0000\n",
            "Epoch 45/100\n",
            "355/355 [==============================] - 9s 26ms/step - loss: 0.0706 - accuracy: 0.9845 - val_loss: 0.0039 - val_accuracy: 1.0000\n",
            "Epoch 46/100\n",
            "355/355 [==============================] - 7s 21ms/step - loss: 0.1072 - accuracy: 0.9690 - val_loss: 0.0163 - val_accuracy: 1.0000\n",
            "Epoch 47/100\n",
            "355/355 [==============================] - 10s 28ms/step - loss: 0.0984 - accuracy: 0.9704 - val_loss: 0.0097 - val_accuracy: 1.0000\n",
            "Epoch 48/100\n",
            "355/355 [==============================] - 7s 21ms/step - loss: 0.0983 - accuracy: 0.9789 - val_loss: 0.0134 - val_accuracy: 1.0000\n",
            "Epoch 49/100\n",
            "355/355 [==============================] - 10s 28ms/step - loss: 0.1603 - accuracy: 0.9507 - val_loss: 0.0045 - val_accuracy: 1.0000\n",
            "Epoch 50/100\n",
            "355/355 [==============================] - 7s 21ms/step - loss: 0.1343 - accuracy: 0.9584 - val_loss: 0.0187 - val_accuracy: 0.9936\n",
            "Epoch 51/100\n",
            "355/355 [==============================] - 10s 27ms/step - loss: 0.0670 - accuracy: 0.9817 - val_loss: 0.0031 - val_accuracy: 1.0000\n",
            "Epoch 52/100\n",
            "355/355 [==============================] - 7s 20ms/step - loss: 0.0665 - accuracy: 0.9866 - val_loss: 0.0101 - val_accuracy: 1.0000\n",
            "Epoch 53/100\n",
            "355/355 [==============================] - 9s 24ms/step - loss: 0.1596 - accuracy: 0.9619 - val_loss: 0.0138 - val_accuracy: 1.0000\n",
            "Epoch 54/100\n",
            "355/355 [==============================] - 9s 25ms/step - loss: 0.1239 - accuracy: 0.9619 - val_loss: 0.0130 - val_accuracy: 1.0000\n",
            "Epoch 55/100\n",
            "355/355 [==============================] - 7s 20ms/step - loss: 0.1322 - accuracy: 0.9577 - val_loss: 0.0137 - val_accuracy: 1.0000\n",
            "Epoch 56/100\n",
            "355/355 [==============================] - 9s 24ms/step - loss: 0.1039 - accuracy: 0.9704 - val_loss: 0.0125 - val_accuracy: 1.0000\n",
            "Epoch 57/100\n",
            "355/355 [==============================] - 9s 24ms/step - loss: 0.0638 - accuracy: 0.9803 - val_loss: 0.0046 - val_accuracy: 1.0000\n",
            "Epoch 58/100\n",
            "355/355 [==============================] - 8s 22ms/step - loss: 0.0732 - accuracy: 0.9831 - val_loss: 0.0049 - val_accuracy: 1.0000\n",
            "Epoch 59/100\n",
            "355/355 [==============================] - 9s 25ms/step - loss: 0.1494 - accuracy: 0.9612 - val_loss: 0.0070 - val_accuracy: 1.0000\n",
            "Epoch 60/100\n",
            "355/355 [==============================] - 9s 24ms/step - loss: 0.1190 - accuracy: 0.9704 - val_loss: 0.0135 - val_accuracy: 1.0000\n",
            "Epoch 61/100\n",
            "355/355 [==============================] - 8s 21ms/step - loss: 0.0994 - accuracy: 0.9704 - val_loss: 0.0062 - val_accuracy: 1.0000\n",
            "Epoch 62/100\n",
            "355/355 [==============================] - 9s 25ms/step - loss: 0.0633 - accuracy: 0.9880 - val_loss: 0.0070 - val_accuracy: 1.0000\n",
            "Epoch 63/100\n",
            "355/355 [==============================] - 9s 24ms/step - loss: 0.0749 - accuracy: 0.9831 - val_loss: 0.0100 - val_accuracy: 1.0000\n",
            "Epoch 64/100\n",
            "355/355 [==============================] - 8s 21ms/step - loss: 0.1234 - accuracy: 0.9648 - val_loss: 0.0066 - val_accuracy: 1.0000\n",
            "Epoch 65/100\n",
            "355/355 [==============================] - 9s 25ms/step - loss: 0.0845 - accuracy: 0.9782 - val_loss: 0.0110 - val_accuracy: 1.0000\n",
            "Epoch 66/100\n",
            "355/355 [==============================] - 9s 26ms/step - loss: 0.1203 - accuracy: 0.9655 - val_loss: 0.0078 - val_accuracy: 1.0000\n",
            "Epoch 67/100\n",
            "355/355 [==============================] - 7s 21ms/step - loss: 0.0777 - accuracy: 0.9774 - val_loss: 0.0030 - val_accuracy: 1.0000\n",
            "Epoch 68/100\n",
            "355/355 [==============================] - 9s 25ms/step - loss: 0.1018 - accuracy: 0.9718 - val_loss: 0.0097 - val_accuracy: 1.0000\n",
            "Epoch 69/100\n",
            "355/355 [==============================] - 8s 23ms/step - loss: 0.1267 - accuracy: 0.9598 - val_loss: 0.0062 - val_accuracy: 1.0000\n",
            "Epoch 70/100\n",
            "355/355 [==============================] - 8s 23ms/step - loss: 0.0903 - accuracy: 0.9753 - val_loss: 0.0098 - val_accuracy: 1.0000\n",
            "Epoch 71/100\n",
            "355/355 [==============================] - 9s 25ms/step - loss: 0.1087 - accuracy: 0.9641 - val_loss: 0.0143 - val_accuracy: 1.0000\n",
            "Epoch 72/100\n",
            "355/355 [==============================] - 8s 21ms/step - loss: 0.0778 - accuracy: 0.9810 - val_loss: 0.0073 - val_accuracy: 1.0000\n",
            "Epoch 73/100\n",
            "355/355 [==============================] - 8s 21ms/step - loss: 0.0686 - accuracy: 0.9838 - val_loss: 0.0100 - val_accuracy: 1.0000\n",
            "Epoch 74/100\n",
            "355/355 [==============================] - 9s 25ms/step - loss: 0.0610 - accuracy: 0.9852 - val_loss: 0.0134 - val_accuracy: 1.0000\n",
            "Epoch 75/100\n",
            "355/355 [==============================] - 7s 21ms/step - loss: 0.0841 - accuracy: 0.9817 - val_loss: 0.0093 - val_accuracy: 1.0000\n",
            "Epoch 76/100\n",
            "355/355 [==============================] - 9s 24ms/step - loss: 0.0858 - accuracy: 0.9767 - val_loss: 0.0150 - val_accuracy: 1.0000\n",
            "Epoch 77/100\n",
            "355/355 [==============================] - 9s 25ms/step - loss: 0.0747 - accuracy: 0.9774 - val_loss: 0.0101 - val_accuracy: 1.0000\n",
            "Epoch 78/100\n",
            "355/355 [==============================] - 7s 21ms/step - loss: 0.1053 - accuracy: 0.9711 - val_loss: 0.0039 - val_accuracy: 1.0000\n",
            "Epoch 79/100\n",
            "355/355 [==============================] - 8s 22ms/step - loss: 0.0705 - accuracy: 0.9789 - val_loss: 0.0072 - val_accuracy: 1.0000\n",
            "Epoch 80/100\n",
            "355/355 [==============================] - 9s 25ms/step - loss: 0.0971 - accuracy: 0.9655 - val_loss: 0.0027 - val_accuracy: 1.0000\n",
            "Epoch 81/100\n",
            "355/355 [==============================] - 7s 21ms/step - loss: 0.1093 - accuracy: 0.9697 - val_loss: 0.0050 - val_accuracy: 1.0000\n",
            "Epoch 82/100\n",
            "355/355 [==============================] - 9s 25ms/step - loss: 0.0934 - accuracy: 0.9739 - val_loss: 0.0150 - val_accuracy: 1.0000\n",
            "Epoch 83/100\n",
            "355/355 [==============================] - 9s 25ms/step - loss: 0.0660 - accuracy: 0.9824 - val_loss: 0.0019 - val_accuracy: 1.0000\n",
            "Epoch 84/100\n",
            "355/355 [==============================] - 7s 20ms/step - loss: 0.0856 - accuracy: 0.9789 - val_loss: 0.0056 - val_accuracy: 1.0000\n",
            "Epoch 85/100\n",
            "355/355 [==============================] - 8s 22ms/step - loss: 0.1184 - accuracy: 0.9619 - val_loss: 0.0185 - val_accuracy: 1.0000\n",
            "Epoch 86/100\n",
            "355/355 [==============================] - 9s 24ms/step - loss: 0.0706 - accuracy: 0.9796 - val_loss: 0.0177 - val_accuracy: 1.0000\n",
            "Epoch 87/100\n",
            "355/355 [==============================] - 9s 24ms/step - loss: 0.0612 - accuracy: 0.9866 - val_loss: 0.0051 - val_accuracy: 1.0000\n",
            "Epoch 88/100\n",
            "355/355 [==============================] - 8s 21ms/step - loss: 0.1107 - accuracy: 0.9683 - val_loss: 0.0046 - val_accuracy: 1.0000\n",
            "Epoch 89/100\n",
            "355/355 [==============================] - 9s 25ms/step - loss: 0.0778 - accuracy: 0.9810 - val_loss: 0.0274 - val_accuracy: 0.9936\n",
            "Epoch 90/100\n",
            "355/355 [==============================] - 8s 23ms/step - loss: 0.1153 - accuracy: 0.9634 - val_loss: 0.0163 - val_accuracy: 1.0000\n",
            "Epoch 91/100\n",
            "355/355 [==============================] - 8s 23ms/step - loss: 0.1012 - accuracy: 0.9690 - val_loss: 0.0090 - val_accuracy: 1.0000\n",
            "Epoch 92/100\n",
            "355/355 [==============================] - 9s 25ms/step - loss: 0.0764 - accuracy: 0.9803 - val_loss: 0.0050 - val_accuracy: 1.0000\n",
            "Epoch 93/100\n",
            "355/355 [==============================] - 7s 21ms/step - loss: 0.0816 - accuracy: 0.9796 - val_loss: 0.0046 - val_accuracy: 1.0000\n",
            "Epoch 94/100\n",
            "355/355 [==============================] - 9s 25ms/step - loss: 0.0511 - accuracy: 0.9887 - val_loss: 0.0049 - val_accuracy: 1.0000\n",
            "Epoch 95/100\n",
            "355/355 [==============================] - 8s 23ms/step - loss: 0.0818 - accuracy: 0.9796 - val_loss: 0.0071 - val_accuracy: 1.0000\n",
            "Epoch 96/100\n",
            "355/355 [==============================] - 8s 22ms/step - loss: 0.1143 - accuracy: 0.9648 - val_loss: 0.0116 - val_accuracy: 1.0000\n",
            "Epoch 97/100\n",
            "355/355 [==============================] - 9s 25ms/step - loss: 0.0832 - accuracy: 0.9753 - val_loss: 0.0028 - val_accuracy: 1.0000\n",
            "Epoch 98/100\n",
            "355/355 [==============================] - 9s 25ms/step - loss: 0.1064 - accuracy: 0.9669 - val_loss: 0.0189 - val_accuracy: 1.0000\n",
            "Epoch 99/100\n",
            "355/355 [==============================] - 8s 21ms/step - loss: 0.0915 - accuracy: 0.9732 - val_loss: 0.0125 - val_accuracy: 1.0000\n",
            "Epoch 100/100\n",
            "355/355 [==============================] - 9s 24ms/step - loss: 0.1234 - accuracy: 0.9619 - val_loss: 0.0092 - val_accuracy: 1.0000\n"
          ]
        }
      ]
    },
    {
      "cell_type": "code",
      "source": [
        "f, (ax1, ax2) = plt.subplots(1, 2, figsize=(12, 4))\n",
        "t = f.suptitle('CNN Performance', fontsize=12)\n",
        "f.subplots_adjust(top=0.85, wspace=0.3)\n",
        "\n",
        "max_epoch = len(history.history['accuracy'])+1\n",
        "epoch_list = list(range(1,max_epoch))\n",
        "ax1.plot(epoch_list, history.history['accuracy'], label='Train Accuracy')\n",
        "ax1.plot(epoch_list, history.history['val_accuracy'], label='Validation Accuracy')\n",
        "ax1.set_xticks(np.arange(1, max_epoch, 5))\n",
        "ax1.set_ylabel('Accuracy Value')\n",
        "ax1.set_xlabel('Epoch')\n",
        "ax1.set_title('Accuracy')\n",
        "l1 = ax1.legend(loc=\"best\")\n",
        "\n",
        "ax2.plot(epoch_list, history.history['loss'], label='Train Loss')\n",
        "ax2.plot(epoch_list, history.history['val_loss'], label='Validation Loss')\n",
        "ax2.set_xticks(np.arange(1, max_epoch, 5))\n",
        "ax2.set_ylabel('Loss Value')\n",
        "ax2.set_xlabel('Epoch')\n",
        "ax2.set_title('Loss')\n",
        "l2 = ax2.legend(loc=\"best\")\n",
        "\n",
        "\n",
        "#Save the model\n",
        "model.save('model.h5')"
      ],
      "metadata": {
        "colab": {
          "base_uri": "https://localhost:8080/",
          "height": 428
        },
        "id": "tXaQiV-NOzzB",
        "outputId": "e70961e3-b532-4db7-b4c4-72d6b328237d"
      },
      "execution_count": 34,
      "outputs": [
        {
          "output_type": "display_data",
          "data": {
            "text/plain": [
              "<Figure size 1200x400 with 2 Axes>"
            ],
            "image/png": "[encoded data removed]"
          },
          "metadata": {}
        }
      ]
    },
    {
      "cell_type": "code",
      "source": [
        "from tensorflow.keras.models import load_model\n",
        "\n",
        "# Load the saved model  if you want to load the model without trining again\n",
        "model = load_model('/content/drive/MyDrive/model.h5')  # Replace with the path to your saved model"
      ],
      "metadata": {
        "id": "NLRebf3LO73I"
      },
      "execution_count": 35,
      "outputs": []
    },
    {
      "cell_type": "code",
      "source": [
        "from google.colab import drive\n",
        "drive.mount('/content/drive')"
      ],
      "metadata": {
        "colab": {
          "base_uri": "https://localhost:8080/"
        },
        "id": "cW3aIp7wPp2s",
        "outputId": "aeb55e53-6a21-48bf-b8d7-84e8074dae81"
      },
      "execution_count": 11,
      "outputs": [
        {
          "output_type": "stream",
          "name": "stdout",
          "text": [
            "Mounted at /content/drive\n"
          ]
        }
      ]
    },
    {
      "cell_type": "code",
      "source": [
        "import tensorflow as tf\n",
        "\n",
        "# Convert the model to a TensorFlow SavedModel\n",
        "tf.saved_model.save(model, \"/content\")\n"
      ],
      "metadata": {
        "id": "NEm9hGilPAeO"
      },
      "execution_count": null,
      "outputs": []
    },
    {
      "cell_type": "code",
      "source": [
        "import tensorflow as tf\n",
        "\n",
        "# Load the TensorFlow SavedModel\n",
        "saved_model_path =\"/content/saved_model\"\n",
        "saved_model = tf.saved_model.load(saved_model_path)\n",
        "\n",
        "# Convert the SavedModel to TensorFlow Lite model\n",
        "converter = tf.lite.TFLiteConverter.from_saved_model(saved_model)\n",
        "tflite_model = converter.convert()\n",
        "\n",
        "# Save the TensorFlow Lite model to a .tflite file\n",
        "tflite_model_path = \"/content\"\n",
        "with open(tflite_model_path, \"wb\") as f:\n",
        "    f.write(tflite_model)\n",
        "\n",
        "print(f\"TensorFlow Lite model saved to: {tflite_model_path}\")\n"
      ],
      "metadata": {
        "colab": {
          "base_uri": "https://localhost:8080/",
          "height": 405
        },
        "id": "nKxuHwqeN8as",
        "outputId": "d9e63b31-092b-46bc-f3b5-dcd6eabfda73"
      },
      "execution_count": null,
      "outputs": [
        {
          "output_type": "error",
          "ename": "TypeError",
          "evalue": "Expected binary or unicode string, got <tensorflow.python.saved_model.load.Loader._recreate_base_user_object.<locals>._UserObject object at 0x7a44a7cccd60>",
          "traceback": [
            "\u001b[0;31m---------------------------------------------------------------------------\u001b[0m",
            "\u001b[0;31mTypeError\u001b[0m                                 Traceback (most recent call last)",
            "\u001b[0;32m<ipython-input-9-c74d66533391>\u001b[0m in \u001b[0;36m<cell line: 8>\u001b[0;34m()\u001b[0m\n\u001b[1;32m      6\u001b[0m \u001b[0;34m\u001b[0m\u001b[0m\n\u001b[1;32m      7\u001b[0m \u001b[0;31m# Convert the SavedModel to TensorFlow Lite model\u001b[0m\u001b[0;34m\u001b[0m\u001b[0;34m\u001b[0m\u001b[0m\n\u001b[0;32m----> 8\u001b[0;31m \u001b[0mconverter\u001b[0m \u001b[0;34m=\u001b[0m \u001b[0mtf\u001b[0m\u001b[0;34m.\u001b[0m\u001b[0mlite\u001b[0m\u001b[0;34m.\u001b[0m\u001b[0mTFLiteConverter\u001b[0m\u001b[0;34m.\u001b[0m\u001b[0mfrom_saved_model\u001b[0m\u001b[0;34m(\u001b[0m\u001b[0msaved_model\u001b[0m\u001b[0;34m)\u001b[0m\u001b[0;34m\u001b[0m\u001b[0;34m\u001b[0m\u001b[0m\n\u001b[0m\u001b[1;32m      9\u001b[0m \u001b[0mtflite_model\u001b[0m \u001b[0;34m=\u001b[0m \u001b[0mconverter\u001b[0m\u001b[0;34m.\u001b[0m\u001b[0mconvert\u001b[0m\u001b[0;34m(\u001b[0m\u001b[0;34m)\u001b[0m\u001b[0;34m\u001b[0m\u001b[0;34m\u001b[0m\u001b[0m\n\u001b[1;32m     10\u001b[0m \u001b[0;34m\u001b[0m\u001b[0m\n",
            "\u001b[0;32m/usr/local/lib/python3.10/dist-packages/tensorflow/lite/python/lite.py\u001b[0m in \u001b[0;36mfrom_saved_model\u001b[0;34m(cls, saved_model_dir, signature_keys, tags)\u001b[0m\n\u001b[1;32m   2085\u001b[0m \u001b[0;34m\u001b[0m\u001b[0m\n\u001b[1;32m   2086\u001b[0m     \u001b[0;32mwith\u001b[0m \u001b[0mcontext\u001b[0m\u001b[0;34m.\u001b[0m\u001b[0meager_mode\u001b[0m\u001b[0;34m(\u001b[0m\u001b[0;34m)\u001b[0m\u001b[0;34m:\u001b[0m\u001b[0;34m\u001b[0m\u001b[0;34m\u001b[0m\u001b[0m\n\u001b[0;32m-> 2087\u001b[0;31m       \u001b[0msaved_model\u001b[0m \u001b[0;34m=\u001b[0m \u001b[0m_load\u001b[0m\u001b[0;34m(\u001b[0m\u001b[0msaved_model_dir\u001b[0m\u001b[0;34m,\u001b[0m \u001b[0mtags\u001b[0m\u001b[0;34m)\u001b[0m\u001b[0;34m\u001b[0m\u001b[0;34m\u001b[0m\u001b[0m\n\u001b[0m\u001b[1;32m   2088\u001b[0m     \u001b[0;32mif\u001b[0m \u001b[0;32mnot\u001b[0m \u001b[0msignature_keys\u001b[0m\u001b[0;34m:\u001b[0m\u001b[0;34m\u001b[0m\u001b[0;34m\u001b[0m\u001b[0m\n\u001b[1;32m   2089\u001b[0m       \u001b[0msignature_keys\u001b[0m \u001b[0;34m=\u001b[0m \u001b[0msaved_model\u001b[0m\u001b[0;34m.\u001b[0m\u001b[0msignatures\u001b[0m\u001b[0;34m\u001b[0m\u001b[0;34m\u001b[0m\u001b[0m\n",
            "\u001b[0;32m/usr/local/lib/python3.10/dist-packages/tensorflow/python/saved_model/load.py\u001b[0m in \u001b[0;36mload\u001b[0;34m(export_dir, tags, options)\u001b[0m\n\u001b[1;32m    910\u001b[0m   \u001b[0;32mif\u001b[0m \u001b[0misinstance\u001b[0m\u001b[0;34m(\u001b[0m\u001b[0mexport_dir\u001b[0m\u001b[0;34m,\u001b[0m \u001b[0mos\u001b[0m\u001b[0;34m.\u001b[0m\u001b[0mPathLike\u001b[0m\u001b[0;34m)\u001b[0m\u001b[0;34m:\u001b[0m\u001b[0;34m\u001b[0m\u001b[0;34m\u001b[0m\u001b[0m\n\u001b[1;32m    911\u001b[0m     \u001b[0mexport_dir\u001b[0m \u001b[0;34m=\u001b[0m \u001b[0mos\u001b[0m\u001b[0;34m.\u001b[0m\u001b[0mfspath\u001b[0m\u001b[0;34m(\u001b[0m\u001b[0mexport_dir\u001b[0m\u001b[0;34m)\u001b[0m\u001b[0;34m\u001b[0m\u001b[0;34m\u001b[0m\u001b[0m\n\u001b[0;32m--> 912\u001b[0;31m   \u001b[0mresult\u001b[0m \u001b[0;34m=\u001b[0m \u001b[0mload_partial\u001b[0m\u001b[0;34m(\u001b[0m\u001b[0mexport_dir\u001b[0m\u001b[0;34m,\u001b[0m \u001b[0;32mNone\u001b[0m\u001b[0;34m,\u001b[0m \u001b[0mtags\u001b[0m\u001b[0;34m,\u001b[0m \u001b[0moptions\u001b[0m\u001b[0;34m)\u001b[0m\u001b[0;34m[\u001b[0m\u001b[0;34m\"root\"\u001b[0m\u001b[0;34m]\u001b[0m\u001b[0;34m\u001b[0m\u001b[0;34m\u001b[0m\u001b[0m\n\u001b[0m\u001b[1;32m    913\u001b[0m   \u001b[0;32mreturn\u001b[0m \u001b[0mresult\u001b[0m\u001b[0;34m\u001b[0m\u001b[0;34m\u001b[0m\u001b[0m\n\u001b[1;32m    914\u001b[0m \u001b[0;34m\u001b[0m\u001b[0m\n",
            "\u001b[0;32m/usr/local/lib/python3.10/dist-packages/tensorflow/python/saved_model/load.py\u001b[0m in \u001b[0;36mload_partial\u001b[0;34m(export_dir, filters, tags, options)\u001b[0m\n\u001b[1;32m   1015\u001b[0m     \u001b[0mtags\u001b[0m \u001b[0;34m=\u001b[0m \u001b[0mnest\u001b[0m\u001b[0;34m.\u001b[0m\u001b[0mflatten\u001b[0m\u001b[0;34m(\u001b[0m\u001b[0mtags\u001b[0m\u001b[0;34m)\u001b[0m\u001b[0;34m\u001b[0m\u001b[0;34m\u001b[0m\u001b[0m\n\u001b[1;32m   1016\u001b[0m   saved_model_proto, debug_info = (\n\u001b[0;32m-> 1017\u001b[0;31m       loader_impl.parse_saved_model_with_debug_info(export_dir))\n\u001b[0m\u001b[1;32m   1018\u001b[0m \u001b[0;34m\u001b[0m\u001b[0m\n\u001b[1;32m   1019\u001b[0m   \u001b[0mloader\u001b[0m \u001b[0;34m=\u001b[0m \u001b[0;32mNone\u001b[0m\u001b[0;34m\u001b[0m\u001b[0;34m\u001b[0m\u001b[0m\n",
            "\u001b[0;32m/usr/local/lib/python3.10/dist-packages/tensorflow/python/saved_model/loader_impl.py\u001b[0m in \u001b[0;36mparse_saved_model_with_debug_info\u001b[0;34m(export_dir)\u001b[0m\n\u001b[1;32m     57\u001b[0m     \u001b[0mparsed\u001b[0m\u001b[0;34m.\u001b[0m \u001b[0mMissing\u001b[0m \u001b[0mgraph\u001b[0m \u001b[0mdebug\u001b[0m \u001b[0minfo\u001b[0m \u001b[0mfile\u001b[0m \u001b[0;32mis\u001b[0m \u001b[0mfine\u001b[0m\u001b[0;34m.\u001b[0m\u001b[0;34m\u001b[0m\u001b[0;34m\u001b[0m\u001b[0m\n\u001b[1;32m     58\u001b[0m   \"\"\"\n\u001b[0;32m---> 59\u001b[0;31m   \u001b[0msaved_model\u001b[0m \u001b[0;34m=\u001b[0m \u001b[0mparse_saved_model\u001b[0m\u001b[0;34m(\u001b[0m\u001b[0mexport_dir\u001b[0m\u001b[0;34m)\u001b[0m\u001b[0;34m\u001b[0m\u001b[0;34m\u001b[0m\u001b[0m\n\u001b[0m\u001b[1;32m     60\u001b[0m \u001b[0;34m\u001b[0m\u001b[0m\n\u001b[1;32m     61\u001b[0m   debug_info_path = file_io.join(\n",
            "\u001b[0;32m/usr/local/lib/python3.10/dist-packages/tensorflow/python/saved_model/loader_impl.py\u001b[0m in \u001b[0;36mparse_saved_model\u001b[0;34m(export_dir)\u001b[0m\n\u001b[1;32m     89\u001b[0m   \u001b[0;31m# Build the path to the SavedModel in pbtxt format.\u001b[0m\u001b[0;34m\u001b[0m\u001b[0;34m\u001b[0m\u001b[0m\n\u001b[1;32m     90\u001b[0m   path_to_pbtxt = file_io.join(\n\u001b[0;32m---> 91\u001b[0;31m       \u001b[0mcompat\u001b[0m\u001b[0;34m.\u001b[0m\u001b[0mas_bytes\u001b[0m\u001b[0;34m(\u001b[0m\u001b[0mcompat\u001b[0m\u001b[0;34m.\u001b[0m\u001b[0mpath_to_str\u001b[0m\u001b[0;34m(\u001b[0m\u001b[0mexport_dir\u001b[0m\u001b[0;34m)\u001b[0m\u001b[0;34m)\u001b[0m\u001b[0;34m,\u001b[0m\u001b[0;34m\u001b[0m\u001b[0;34m\u001b[0m\u001b[0m\n\u001b[0m\u001b[1;32m     92\u001b[0m       compat.as_bytes(constants.SAVED_MODEL_FILENAME_PBTXT))\n\u001b[1;32m     93\u001b[0m   \u001b[0;31m# Build the path to the SavedModel in pb format.\u001b[0m\u001b[0;34m\u001b[0m\u001b[0;34m\u001b[0m\u001b[0m\n",
            "\u001b[0;32m/usr/local/lib/python3.10/dist-packages/tensorflow/python/util/compat.py\u001b[0m in \u001b[0;36mas_bytes\u001b[0;34m(bytes_or_text, encoding)\u001b[0m\n\u001b[1;32m     85\u001b[0m     \u001b[0;32mreturn\u001b[0m \u001b[0mbytes_or_text\u001b[0m\u001b[0;34m\u001b[0m\u001b[0;34m\u001b[0m\u001b[0m\n\u001b[1;32m     86\u001b[0m   \u001b[0;32melse\u001b[0m\u001b[0;34m:\u001b[0m\u001b[0;34m\u001b[0m\u001b[0;34m\u001b[0m\u001b[0m\n\u001b[0;32m---> 87\u001b[0;31m     raise TypeError('Expected binary or unicode string, got %r' %\n\u001b[0m\u001b[1;32m     88\u001b[0m                     (bytes_or_text,))\n\u001b[1;32m     89\u001b[0m \u001b[0;34m\u001b[0m\u001b[0m\n",
            "\u001b[0;31mTypeError\u001b[0m: Expected binary or unicode string, got <tensorflow.python.saved_model.load.Loader._recreate_base_user_object.<locals>._UserObject object at 0x7a44a7cccd60>"
          ]
        }
      ]
    },
    {
      "cell_type": "markdown",
      "source": [],
      "metadata": {
        "id": "bBUX27nGPDb8"
      }
    },
    {
      "cell_type": "markdown",
      "source": [
        "# 5.Testing and Evaluation:\n",
        "In this phase, the trained model underwent rigorous evaluation on a distinct test set, consisting of 120 images not encountered during the training process. The model demonstrated exceptional performance, achieving a remarkable 100% accuracy on the test set.\n",
        "\n",
        "# Evaluation Metrics:\n",
        "Accuracy: 100%\n",
        "Loss: 0.0056\n",
        "Model's Strengths:\n",
        "High Accuracy:\n",
        "The model exhibited outstanding accuracy, showcasing its capability to effectively classify resumes based on visual features.\n",
        "\n",
        "# Low Loss:\n",
        "The low loss value (0.0059) indicates the model's proficiency in minimizing prediction errors during training and testing.\n",
        "\n",
        "# Model's Limitations:\n",
        "Caution for Overfitting: Achieving perfect accuracy raises concerns about potential overfitting, where the model may have memorized the training data. Cross-validation or evaluation on diverse datasets is recommended to confirm generalization.\n"
      ],
      "metadata": {
        "id": "NNEXVRQ6PDpG"
      }
    },
    {
      "cell_type": "code",
      "source": [
        "class_names = [\"empty\", \"not_empty\"]"
      ],
      "metadata": {
        "id": "OPGT_ldRPZui"
      },
      "execution_count": 36,
      "outputs": []
    },
    {
      "cell_type": "code",
      "source": [
        "from PIL import Image\n",
        "import numpy as np\n",
        "\n",
        "# Load an image (adjust the path accordingly)\n",
        "image_path = \"/content/Data/not_empty/00000720_00000119.jpg\"\n",
        "image = Image.open(image_path)\n",
        "\n",
        "# Preprocess the image if needed (resize, normalize, etc.)\n",
        "# Example: Resize the image to the input size expected by the model\n",
        "input_size = (150, 150)\n",
        "image = image.resize(input_size)\n",
        "image_array = np.array(image) / 255.0  # Normalize pixel values to be in the range [0, 1]\n",
        "\n",
        "# Add an extra dimension to match the input shape expected by the model\n",
        "image_array = np.expand_dims(image_array, axis=0)\n",
        "\n",
        "# Predict using the model\n",
        "y_pred = model.predict(image_array)\n",
        "print(y_pred)\n",
        "\n",
        "# Define the threshold\n",
        "threshold = 0.5\n",
        "\n",
        "# Convert probabilities to class labels using the threshold\n",
        "predicted_class_label = 1 if y_pred[0][0] >= threshold else 0\n",
        "\n",
        "# Optionally, you can also get the class name if needed\n",
        "predicted_class_name = class_names[predicted_class_label]\n",
        "\n",
        "print(f\"Predicted Class Label: {predicted_class_label}\")\n",
        "print(f\"Predicted Class Name: {predicted_class_name}\")"
      ],
      "metadata": {
        "colab": {
          "base_uri": "https://localhost:8080/"
        },
        "id": "zzSI53YnP_ZU",
        "outputId": "a9347df5-1c6c-4da3-b094-7f5abae691f7"
      },
      "execution_count": 40,
      "outputs": [
        {
          "output_type": "stream",
          "name": "stdout",
          "text": [
            "1/1 [==============================] - 0s 31ms/step\n",
            "[[0.9861362]]\n",
            "Predicted Class Label: 1\n",
            "Predicted Class Name: not_empty\n"
          ]
        }
      ]
    }
  ]
}