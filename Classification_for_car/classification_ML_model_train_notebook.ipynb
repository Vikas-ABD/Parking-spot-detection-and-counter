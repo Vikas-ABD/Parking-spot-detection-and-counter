{
  "nbformat": 4,
  "nbformat_minor": 0,
  "metadata": {
    "colab": {
      "provenance": []
    },
    "kernelspec": {
      "name": "python3",
      "display_name": "Python 3"
    },
    "language_info": {
      "name": "python"
    }
  },
  "cells": [
    {
      "cell_type": "code",
      "execution_count": 1,
      "metadata": {
        "id": "dBZy230TIiCv"
      },
      "outputs": [],
      "source": [
        "import os\n",
        "import pickle\n",
        "\n",
        "from skimage.io import imread\n",
        "from skimage.transform import resize\n",
        "import numpy as np\n",
        "from sklearn.model_selection import train_test_split\n",
        "from sklearn.model_selection import GridSearchCV\n",
        "from sklearn.svm import SVC\n",
        "from sklearn.metrics import accuracy_score"
      ]
    },
    {
      "cell_type": "code",
      "source": [
        "import gdown\n",
        "import shutil\n",
        "\n",
        "# Destination directory where the user will download the data https://drive.google.com/file/d/11PI6wGDjuJ3LiPSm3izbVcmVTX7DDVLn/view?usp=drive_link\n",
        "destination_path = '/content'\n",
        "\n",
        "# Download the ZIP file\n",
        "zip_file_path = destination_path + '/Data.zip'\n",
        "\n",
        "# Extract the downloaded ZIP file\n",
        "shutil.unpack_archive(zip_file_path, destination_path)\n",
        "\n",
        "print(\"Data has been downloaded and extracted to:\", destination_path)"
      ],
      "metadata": {
        "colab": {
          "base_uri": "https://localhost:8080/"
        },
        "id": "10y41BOYIvPW",
        "outputId": "6b63791d-ef42-4f1d-ca24-357494415c90"
      },
      "execution_count": 2,
      "outputs": [
        {
          "output_type": "stream",
          "name": "stdout",
          "text": [
            "Data has been downloaded and extracted to: /content\n"
          ]
        }
      ]
    },
    {
      "cell_type": "code",
      "source": [
        "# prepare data\n",
        "input_dir = '/content/Data'\n",
        "categories = ['empty', 'not_empty']\n",
        "\n",
        "data = []\n",
        "labels = []\n",
        "for category_idx, category in enumerate(categories):\n",
        "    for file in os.listdir(os.path.join(input_dir, category)):\n",
        "        img_path = os.path.join(input_dir, category, file)\n",
        "        img = imread(img_path)\n",
        "        img = resize(img, (25, 25))\n",
        "        data.append(img.flatten())\n",
        "        labels.append(category_idx)\n",
        "\n",
        "data = np.asarray(data)\n",
        "labels = np.asarray(labels)\n",
        "\n",
        "# train / test split\n",
        "x_train, x_test, y_train, y_test = train_test_split(data, labels, test_size=0.2, shuffle=True, stratify=labels)\n"
      ],
      "metadata": {
        "id": "1T6ni7gTI9fu"
      },
      "execution_count": 5,
      "outputs": []
    },
    {
      "cell_type": "markdown",
      "source": [
        "#Models training"
      ],
      "metadata": {
        "id": "EAedQl8SJZOx"
      }
    },
    {
      "cell_type": "code",
      "source": [
        "from sklearn.ensemble import RandomForestClassifier\n",
        "from sklearn.svm import SVC\n",
        "from xgboost import XGBClassifier\n",
        "\n",
        "# Random Forest\n",
        "rf_classifier = RandomForestClassifier(n_estimators=100, random_state=42)\n",
        "rf_classifier.fit(x_train, y_train)\n",
        "rf_predictions = rf_classifier.predict(x_test)\n",
        "rf_accuracy = accuracy_score(y_test, rf_predictions)\n",
        "print(f\"Random Forest Accuracy: {rf_accuracy}\")\n",
        "\n",
        "\n"
      ],
      "metadata": {
        "colab": {
          "base_uri": "https://localhost:8080/"
        },
        "id": "SJCfhjv-JKg8",
        "outputId": "62b1736c-8323-4b1d-b243-7768587ab69d"
      },
      "execution_count": 6,
      "outputs": [
        {
          "output_type": "stream",
          "name": "stdout",
          "text": [
            "Random Forest Accuracy: 1.0\n"
          ]
        }
      ]
    },
    {
      "cell_type": "code",
      "source": [
        "# XGBoost\n",
        "xgb_classifier = XGBClassifier(learning_rate=0.1, n_estimators=100, random_state=42)\n",
        "xgb_classifier.fit(x_train, y_train)\n",
        "xgb_predictions = xgb_classifier.predict(x_test)\n",
        "xgb_accuracy = accuracy_score(y_test, xgb_predictions)\n",
        "print(f\"XGBoost Accuracy: {xgb_accuracy}\")\n"
      ],
      "metadata": {
        "colab": {
          "base_uri": "https://localhost:8080/"
        },
        "id": "1pGZtqIAJjWx",
        "outputId": "26e80650-9069-4c01-b531-adf435a49c43"
      },
      "execution_count": 7,
      "outputs": [
        {
          "output_type": "stream",
          "name": "stdout",
          "text": [
            "XGBoost Accuracy: 1.0\n"
          ]
        }
      ]
    },
    {
      "cell_type": "code",
      "source": [
        "# train classifier\n",
        "classifier = SVC()\n",
        "\n",
        "parameters = [{'gamma': [0.01, 0.001, 0.0001], 'C': [1, 10, 100, 1000]}]\n",
        "\n",
        "grid_search = GridSearchCV(classifier, parameters)\n",
        "\n",
        "grid_search.fit(x_train, y_train)\n",
        "\n",
        "# test performance\n",
        "best_estimator = grid_search.best_estimator_"
      ],
      "metadata": {
        "id": "bbA4r5RMKGjX"
      },
      "execution_count": 8,
      "outputs": []
    },
    {
      "cell_type": "code",
      "source": [
        "y_prediction = best_estimator.predict(x_test)\n",
        "\n",
        "score = accuracy_score(y_prediction, y_test)\n",
        "\n",
        "print('{}% of samples were correctly classified'.format(str(score * 100)))\n",
        "\n",
        "#pickle.dump(best_estimator, open('./model.p', 'wb'))"
      ],
      "metadata": {
        "colab": {
          "base_uri": "https://localhost:8080/"
        },
        "id": "rqQ8VSpsKOdh",
        "outputId": "8c88d368-af74-442e-c6eb-e89ae0ef1af8"
      },
      "execution_count": 9,
      "outputs": [
        {
          "output_type": "stream",
          "name": "stdout",
          "text": [
            "100.0% of samples were correctly classified\n"
          ]
        }
      ]
    },
    {
      "cell_type": "markdown",
      "source": [
        "# save model as pickel file"
      ],
      "metadata": {
        "id": "Jw9L5tBOKaqy"
      }
    },
    {
      "cell_type": "code",
      "source": [
        "pickle.dump(xgb_classifier, open('./model.p', 'wb'))"
      ],
      "metadata": {
        "id": "zK_CNHS3KfwU"
      },
      "execution_count": 10,
      "outputs": []
    }
  ]
}